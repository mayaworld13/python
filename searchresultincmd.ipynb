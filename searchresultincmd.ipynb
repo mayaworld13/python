{
 "cells": [
  {
   "cell_type": "code",
   "execution_count": 12,
   "id": "82cf956d",
   "metadata": {},
   "outputs": [
    {
     "name": "stdout",
     "output_type": "stream",
     "text": [
      "Enter what you wantt to search: vimal daga\n",
      "How many result you want: 5\n",
      "https://in.linkedin.com/in/vimaldaga\n",
      "https://www.crunchbase.com/person/vimal-daga\n",
      "https://in.linkedin.com/posts/vimaldaga_we-created-world-record-having-1200-redhat-activity-6427113078017626112-EAZz\n",
      "https://twitter.com/vimaldaga13?lang=en\n",
      "https://in.pinterest.com/linuxwindia/india-sets-new-world-record-proud-of-you-vimal-dag/\n"
     ]
    }
   ],
   "source": [
    "import speech_recognition as sr\n",
    "import pyttsx3\n",
    "from googlesearch import search\n",
    "import requests\n",
    "\n",
    "def speak(text):\n",
    "    engine = pyttsx3.init()\n",
    "    engine.say(text)\n",
    "    engine.runAndWait()\n",
    "def recognize_speech():\n",
    "    recognizer = sr.Recognizer()\n",
    "\n",
    "    with sr.Microphone() as source:\n",
    "        print(\"Listening...\")\n",
    "        audio = recognizer.listen(source)\n",
    "\n",
    "    try:\n",
    "        print(\"Recognizing...\")\n",
    "        text = recognizer.recognize_google(audio)\n",
    "        print(\"You said:\", text)\n",
    "        return text.lower()\n",
    "    except sr.UnknownValueError:\n",
    "        print(\"Sorry, could not understand audio.\")\n",
    "    except sr.RequestError as e:\n",
    "        print(f\"Error with the speech recognition service; {e}\")\n",
    "\n",
    "    return None\n",
    "def set_audio_output():\n",
    "    engine = pyttsx3.init()\n",
    "    voices = engine.getProperty(\"voices\")\n",
    "    engine.setProperty(\"voice\", voices[1].id)  # Select the desired voice (change the index if needed)\n",
    "    engine.setProperty(\"output\", \"auto\")  # Set the audio output to the default system audio\n",
    "set_audio_output()\n",
    "\n",
    "query=input(\"Enter what you wantt to search: \")\n",
    "result=int(input(\"How many result you want: \"))\n",
    "\n",
    "search_results = []\n",
    "for i in search(query,result):\n",
    "    print(i)"
   ]
  },
  {
   "cell_type": "code",
   "execution_count": 27,
   "id": "48cb5c5d",
   "metadata": {},
   "outputs": [
    {
     "name": "stdout",
     "output_type": "stream",
     "text": [
      "Listening...\n",
      "Recognizing...\n",
      "You said: Mayank Sharma\n",
      "Top search results:\n",
      "1. https://www.instagram.com/mayankvsharma/?hl=en\n",
      "2. https://in.linkedin.com/in/sharmamayank92\n",
      "3. https://en.wikipedia.org/wiki/Ankita_Mayank_Sharma\n",
      "4. https://www.amazon.in/Books-Mayank-Sharma/s?rh=n%3A976389031%2Cp_27%3AMayank+Sharma\n",
      "5. https://www.iifl.com/finance/about-us/leaders/management/mayank-sharma\n",
      "6. https://www.businesstoday.in/bt-tv/video/i-work-really-hard-to-first-crack-a-solid-plotline-mayank-sharma-director-351897-2022-11-04\n",
      "7. https://en.wikipedia.org/wiki/Ankita_Mayank_Sharma\n",
      "8. https://www.amazon.in/Books-Mayank-Sharma/s?rh=n%3A976389031%2Cp_27%3AMayank+Sharma\n",
      "9. https://en.wikipedia.org/wiki/Ankita_Mayank_Sharma\n",
      "10. https://www.amazon.in/Books-Mayank-Sharma/s?rh=n%3A976389031%2Cp_27%3AMayank+Sharma\n"
     ]
    }
   ],
   "source": [
    "c"
   ]
  },
  {
   "cell_type": "code",
   "execution_count": null,
   "id": "b389d696",
   "metadata": {},
   "outputs": [],
   "source": []
  }
 ],
 "metadata": {
  "kernelspec": {
   "display_name": "Python 3",
   "language": "python",
   "name": "python3"
  },
  "language_info": {
   "codemirror_mode": {
    "name": "ipython",
    "version": 3
   },
   "file_extension": ".py",
   "mimetype": "text/x-python",
   "name": "python",
   "nbconvert_exporter": "python",
   "pygments_lexer": "ipython3",
   "version": "3.10.9"
  }
 },
 "nbformat": 4,
 "nbformat_minor": 5
}
